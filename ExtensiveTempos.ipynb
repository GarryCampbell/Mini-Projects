{
  "nbformat": 4,
  "nbformat_minor": 0,
  "metadata": {
    "colab": {
      "provenance": [],
      "authorship_tag": "ABX9TyNvLWYptw4JOhkBks28IBay",
      "include_colab_link": true
    },
    "kernelspec": {
      "name": "python3",
      "display_name": "Python 3"
    },
    "language_info": {
      "name": "python"
    }
  },
  "cells": [
    {
      "cell_type": "markdown",
      "metadata": {
        "id": "view-in-github",
        "colab_type": "text"
      },
      "source": [
        "<a href=\"https://colab.research.google.com/github/GarryCampbell/Mini-Projects/blob/main/ExtensiveTempos.ipynb\" target=\"_parent\"><img src=\"https://colab.research.google.com/assets/colab-badge.svg\" alt=\"Open In Colab\"/></a>"
      ]
    },
    {
      "cell_type": "markdown",
      "source": [
        "# **Extensive Tempos (for sprinters)**\n",
        "\n",
        "I was curious about how sprinters build general fitness and came across a blog post describing extensive tempos. This [blog post](https://http://tandftrainingdesign.blogspot.com/2012/11/extensive-tempo-training-brief-overview.html) describes how this training session is used to build aerobic power and aerobic capacity. \n",
        "\n",
        "For fun, I have decided to create this notebook based around that blog post which can do all the calculations mentioned in the above quickly and easily.\n",
        "\n",
        "## *Preliminary notes*\n",
        "\n",
        "The emphasis of training for sprinters year round should be speed development (neural training) done over 10-60m reps in the prep period. \n",
        "\n",
        "It is important to develop proper sprint mechanics before extending sprint distances or doing any sort of sprint distance work (7-15 seconds).\n",
        "Sprint mechanics are improved through:\n",
        "* drills,\n",
        "* accelerations over 15-40m,\n",
        "* short sprint work over 10-40m.\n",
        "\n",
        "On a day of speed development training, the athlete should first perform speed training and then gym work (general, absolute, elastic, explosive).\n",
        "\n",
        "The extensive tempo work (the focus of this notebook) is to be done in the day following a speed development day. This type of work stimulates the body to improve aerobically while allowing the CNS (central nervous system) to recover from the previous days strength and speed work.\n",
        "\n",
        "#### *Extensive tempo session constraints*\n",
        "\n",
        "Aerobic capacity sessions:\n",
        "* Reps: 200-600m\n",
        "* Rep recovery: 45 seconds or less than reps\n",
        "* Set recovery: Less than 2 minutes\n",
        "* Total volume is race distance dependant\n",
        "  * 100m: 1400-3000m\n",
        "  * 200m: 1800-3000m\n",
        "  * 400m: 2400-4000m\n",
        "\n",
        "Aerobic power sessions:\n",
        "* Reps: 100-300m\n",
        "* Rep recovery: 30-90 seconds\n",
        "* Set recovery: 2-3 minutes\n",
        "* Total volume is race distance dependant\n",
        "  * 100m: 1400-1800m\n",
        "  * 200m: 1800-2400m\n",
        "  * 400m: 1800-2800m\n",
        "\n",
        "\n",
        "The volume of a single extensive tempo training session is increased by 200m from week to week but a training session should end early when either of the following happens:\n",
        "* if the athlete resorts to poor running mechanics,\n",
        "* if the athlete fails to meet the target pace range for the session.\n",
        "\n",
        "\n",
        "\n",
        " "
      ],
      "metadata": {
        "id": "1BuFHreDogcQ"
      }
    },
    {
      "cell_type": "markdown",
      "source": [
        "## *Athlete profile*\n",
        "\n",
        "The point of profiling the athlete is:\n",
        "* to identify the volume of training to begin the block with,\n",
        "* to identify the necessary pace of reps.\n",
        "\n",
        "To begin, first enter the training level of the athlete (beginner/advanced) and the target race distance for the athlete (100/200/400m). This information should dictate the starting load for the blocks extensive tempo sessions. It is better to be conservative than to do too much. \n",
        "\n",
        "\n"
      ],
      "metadata": {
        "id": "GpIt2zJX8stM"
      }
    },
    {
      "cell_type": "code",
      "execution_count": 33,
      "metadata": {
        "colab": {
          "base_uri": "https://localhost:8080/"
        },
        "id": "LJdy1FAYmyIg",
        "outputId": "387d0beb-9628-4d9b-abfa-206aa35afa45"
      },
      "outputs": [
        {
          "name": "stdout",
          "output_type": "stream",
          "text": [
            "Input level of the athlete: (beginner/unfit/advanced)advanced\n",
            "Target race distance in metres: (100/200/400) 400\n",
            "Input the result of the 300m TT: (seconds) 42\n",
            "Input the result of the 150m TT: (seconds) 19\n"
          ]
        }
      ],
      "source": [
        "lev = input(\"Input level of the athlete: (beginner/unfit/advanced)\")\n",
        "td = int(input(\"Target race distance in metres: (100/200/400) \"))\n",
        "tt300 = float(input(\"Input the result of the 300m TT: (seconds) \"))\n",
        "tt150 = float(input(\"Input the result of the 150m TT: (seconds) \"))"
      ]
    },
    {
      "cell_type": "markdown",
      "source": [
        "## *Starting Volume*\n",
        "\n",
        "The volume of the training sessions to begin the block is dictated by:\n",
        "* the athlete's experience (lev)\n",
        "* the athlete's target race distance (td)"
      ],
      "metadata": {
        "id": "t4AFOiO8MXzo"
      }
    },
    {
      "cell_type": "code",
      "source": [
        "cap_vol=1000\n",
        "pow_vol=1000\n",
        "\n",
        "if lev==\"advanced\":\n",
        "  if td==100:\n",
        "    cap_vol=1400\n",
        "    pow_vol=1400\n",
        "  elif td==200:\n",
        "    cap_vol=1800\n",
        "    pow_vol=1800\n",
        "  elif td==400:\n",
        "    cap_vol=2400\n",
        "    pow_vol=1800\n",
        "\n"
      ],
      "metadata": {
        "id": "BzP7NeOrsA3D"
      },
      "execution_count": 34,
      "outputs": []
    },
    {
      "cell_type": "markdown",
      "source": [
        "## *Pace Zones*\n",
        "\n",
        "Pace zones are calculated in accordance with the recommendations from the attached blogpost. It is worth noting that in the quest to build our aerobic ability, we should emphasize doing work at an appropriate intensity rather than trying to speed up from week to week. "
      ],
      "metadata": {
        "id": "DgVTHr3U8NNi"
      }
    },
    {
      "cell_type": "code",
      "source": [
        "# aerobic power uses 150m time (70-75%)\n",
        "\n",
        "pow_btm = (tt150*100)/75\n",
        "pow_top = (tt150*100)/70\n",
        "\n",
        "# aerobic capacity uses 300m time (65-69%)\n",
        "\n",
        "cap_btm = (tt300*100)/69\n",
        "cap_top = (tt300*100)/65\n",
        "\n",
        "# conversion of aerobic power reps to different distances (100-200m reps)\n",
        "\n",
        "p100_low, p100_up = (pow_btm/150)*100,(pow_top/150)*100 \n",
        "p200_low, p200_up = (pow_btm/150)*200,(pow_top/150)*200\n",
        "\n",
        "# conversion of aerobic capacity reps to different distances (250-600m reps)\n",
        "\n",
        "c200_low, c200_up = (cap_btm/300)*200,(cap_top/300)*200\n",
        "c250_low, c250_up = (cap_btm/300)*250,(cap_top/300)*250 \n",
        "c400_low, c400_up = (cap_btm/300)*400,(cap_top/300)*400\n",
        "c500_low, c500_up = (cap_btm/300)*500,(cap_top/300)*500\n",
        "c600_low, c600_up = (cap_btm/300)*600,(cap_top/300)*600"
      ],
      "metadata": {
        "id": "RKf6u62lz-jt"
      },
      "execution_count": 35,
      "outputs": []
    },
    {
      "cell_type": "markdown",
      "source": [
        "## *Output*"
      ],
      "metadata": {
        "id": "rwcAcxZxO4Uu"
      }
    },
    {
      "cell_type": "code",
      "source": [
        "\n",
        "print (\"TRAINING DETAILS\\n\")\n",
        "\n",
        "print(\"--------------------------------------------\\n\")\n",
        "\n",
        "print(\"AEROBIC TRAINING SESSION 1  : Aerobic Power\\n\")\n",
        "\n",
        "print(f\"Starting volume: {pow_vol:.1f}m\")\n",
        "print(\"Rest between reps: 30-90 seconds\")\n",
        "print(\"Rest between sets: 2-3 minutes\\n\")\n",
        "\n",
        "print(f\"100m reps                 : {(p100_low):.1f} - {p100_up:.1f}\")\n",
        "print(f\"150m reps                 : {pow_btm:.1f} - {pow_top:.1f}\")\n",
        "print(f\"200m reps                 : {(p200_low):.1f} - {p200_up:.1f}\\n\")\n",
        "\n",
        "print(\"--------------------------------------------\\n\")\n",
        "\n",
        "print(f\"AEROBIC TRAINING SESSION 2 : Aerobic Capacity\\n\")\n",
        "\n",
        "print(f\"Starting volume: {cap_vol:.1f}m\")\n",
        "print(\"Rest between reps: 45 seconds or less than the previous rep\")\n",
        "print(\"Rest between sets: 2 minutes\\n\")\n",
        "\n",
        "print(f\"200m reps                 : {(c200_low):.1f} - {c200_up:.1f}\")\n",
        "print(f\"250m reps                 : {(c250_low):.1f} - {c250_up:.1f}\")\n",
        "print(f\"300m reps                 : {cap_btm:.1f} - {cap_top:.1f}\")\n",
        "print(f\"400m reps                 : {(c400_low):.1f} - {c400_up:.1f}\")\n",
        "print(f\"500m reps                 : {(c500_low):.1f} - {c500_up:.1f}\")\n",
        "print(f\"600m reps                 : {(c600_low):.1f} - {c600_up:.1f}\\n\")\n",
        "\n",
        "print(\"--------------------------------------------\\n\")"
      ],
      "metadata": {
        "colab": {
          "base_uri": "https://localhost:8080/"
        },
        "id": "RevcemGu4jRy",
        "outputId": "90c9d6a9-a681-4d33-a1cc-8fc5e3748872"
      },
      "execution_count": 41,
      "outputs": [
        {
          "output_type": "stream",
          "name": "stdout",
          "text": [
            "TRAINING DETAILS\n",
            "\n",
            "--------------------------------------------\n",
            "\n",
            "AEROBIC TRAINING SESSION 1  : Aerobic Power\n",
            "\n",
            "Starting volume: 1800.0m\n",
            "Rest between reps: 30-90 seconds\n",
            "Rest between sets: 2-3 minutes\n",
            "\n",
            "100m reps                 : 16.9 - 18.1\n",
            "150m reps                 : 25.3 - 27.1\n",
            "200m reps                 : 33.8 - 36.2\n",
            "\n",
            "--------------------------------------------\n",
            "\n",
            "AEROBIC TRAINING SESSION 2 : Aerobic Capacity\n",
            "\n",
            "Starting volume: 2400.0m\n",
            "Rest between reps: 45 seconds or less than the previous rep\n",
            "Rest between sets: 2 minutes\n",
            "\n",
            "200m reps                 : 40.6 - 43.1\n",
            "250m reps                 : 50.7 - 53.8\n",
            "300m reps                 : 60.9 - 64.6\n",
            "400m reps                 : 81.2 - 86.2\n",
            "500m reps                 : 101.4 - 107.7\n",
            "600m reps                 : 121.7 - 129.2\n",
            "\n",
            "--------------------------------------------\n",
            "\n"
          ]
        }
      ]
    },
    {
      "cell_type": "code",
      "source": [],
      "metadata": {
        "id": "rfcCO8ghTqk2"
      },
      "execution_count": null,
      "outputs": []
    }
  ]
}