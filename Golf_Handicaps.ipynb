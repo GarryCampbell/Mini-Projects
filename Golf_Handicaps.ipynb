{
  "nbformat": 4,
  "nbformat_minor": 0,
  "metadata": {
    "colab": {
      "provenance": [],
      "toc_visible": true,
      "authorship_tag": "ABX9TyP7+AHjRKjSBtTBTwKe7gn/",
      "include_colab_link": true
    },
    "kernelspec": {
      "name": "python3",
      "display_name": "Python 3"
    },
    "language_info": {
      "name": "python"
    }
  },
  "cells": [
    {
      "cell_type": "markdown",
      "metadata": {
        "id": "view-in-github",
        "colab_type": "text"
      },
      "source": [
        "<a href=\"https://colab.research.google.com/github/GarryCampbell/Mini-Projects/blob/main/Golf_Handicaps.ipynb\" target=\"_parent\"><img src=\"https://colab.research.google.com/assets/colab-badge.svg\" alt=\"Open In Colab\"/></a>"
      ]
    },
    {
      "cell_type": "markdown",
      "source": [
        "# Golf Handicap Update\n",
        "\n",
        "## Steps\n",
        "\n",
        "1. Calculate the score differential for today \n",
        "2. Add to the list of score differentials.\n",
        "3. Remove the oldest score differential value.\n",
        "4. If necessary, calculate an exceptional round adjustment.\n",
        "5. Calculate the average for the best 8 of the last 20 rounds.\n",
        "5. Update the handicap index"
      ],
      "metadata": {
        "id": "7O-5FS3BPdYL"
      }
    },
    {
      "cell_type": "markdown",
      "source": [
        "### How to calculate the score differential\n",
        "\n",
        "(113/SR) x (adj gross score - course rating - PCC adj)\n",
        "\n",
        "where PCC ranges from -1 to 3 (playing conditions calculation - reflects difficulty of the day)\n",
        "\n"
      ],
      "metadata": {
        "id": "bx3VDfbO32I9"
      }
    },
    {
      "cell_type": "markdown",
      "source": [
        "### How to calculate your handicap index\n",
        "\n",
        "Mean of the best 8 of your last 20 score differentials\n",
        "\n"
      ],
      "metadata": {
        "id": "kYmV7QuZSmn5"
      }
    },
    {
      "cell_type": "markdown",
      "source": [
        "### Note on caps on upward movement of handicap index\n",
        "\n",
        "Soft cap - triggered when the difference between a player’s newly calculated Handicap Index and their Low Handicap Index is greater than 3.0 strokes When a calculated Handicap Index increase is greater than 3.0 strokes, the value above 3.0 strokes is restricted to 50% of the increase.\n",
        "(A Low Handicap Index is the lowest Handicap Index achieved over the 365-day period preceding the most recent score in your scoring record)\n",
        "\n",
        "Hard cap - triggers to restrict the amount by which a player’s Handicap Index can increase, after application of the soft cap, to no more than 5.0 strokes above their Low Handicap Index.\n",
        "\n",
        "There's no limit on downward movement"
      ],
      "metadata": {
        "id": "z0vKnn6kSmyT"
      }
    },
    {
      "cell_type": "markdown",
      "source": [
        "## Notebook Functions"
      ],
      "metadata": {
        "id": "bWQzBl3g-Vpp"
      }
    },
    {
      "cell_type": "code",
      "source": [
        "def CalcSd(sr,adj_gross,cr,par,pcc): # calculate the score differential\n",
        "  sd=(113/sr)*(adj_gross-cr-pcc)\n",
        "  return sd\n",
        "\n",
        "def ExceptionalRoundAdj(sd,sd20): # adjustment for an exceptional round where sd < -7 \n",
        "  if sd < -10:\n",
        "    for round in sd20:\n",
        "      sd20_adj = [x-2 for x in sd20]\n",
        "    return sd20_adj\n",
        "  elif sd < -7:\n",
        "    for round in sd20:\n",
        "      sd20_adj = [x-1 for x in sd20]\n",
        "    return sd20_adj\n",
        "  else:\n",
        "    return sd20\n",
        "\n",
        "def UpdateHI(curr_hi,avg_sd,yr_low):\n",
        "  if avg_sd >= 0:\n",
        "    return (curr_hi + avg_sd)\n",
        "  else:\n",
        "    if curr_hi - 5.0 >= yr_low:\n",
        "      return (curr_hi)\n",
        "    elif curr_hi - 3.0 >= yr_low:\n",
        "      sd=avg_sd/2\n",
        "      if curr_hi + sd > yr_low + 5:\n",
        "        return (yr_low + 5)\n",
        "      else:\n",
        "        return (curr_hi + sd)\n",
        "    else:\n",
        "      return (curr_hi + avg_sd)\n"
      ],
      "metadata": {
        "id": "MT-7m8yTHt6H"
      },
      "execution_count": 24,
      "outputs": []
    },
    {
      "cell_type": "markdown",
      "source": [
        "## Test Inputs"
      ],
      "metadata": {
        "id": "9b4TRFKV-agI"
      }
    },
    {
      "cell_type": "code",
      "source": [
        "curr_hi=5.0\n",
        "yr_low=5.0\n",
        "\n",
        "sd20 = [0,0,0,0,0,0,0,0,0,0,0,0,0,0,0,0,0,0,0,0]\n",
        "\n",
        "sr = float(input(\"Input slope rating of the course: \"))\n",
        "gr = float(input(\"Input today's gross score: \"))\n",
        "cr = float(input(\"Input course rating: \"))\n",
        "par = float(input(\"Input par of the course: \"))\n",
        "pcc = float(input(\"Input playing conditions calculation: \"))"
      ],
      "metadata": {
        "colab": {
          "base_uri": "https://localhost:8080/"
        },
        "id": "-mhhq23eUt9Q",
        "outputId": "0a82bbc8-4b83-4d25-cd4a-3c37f5c14585"
      },
      "execution_count": 28,
      "outputs": [
        {
          "name": "stdout",
          "output_type": "stream",
          "text": [
            "Input slope rating of the course: 151\n",
            "Input today's gross score: 77\n",
            "Input course rating: 79.4\n",
            "Input par of the course: 76\n",
            "Input playing conditions calculation: 0\n"
          ]
        }
      ]
    },
    {
      "cell_type": "markdown",
      "source": [
        "## Update the handicap"
      ],
      "metadata": {
        "id": "T8zOTYLU-o5J"
      }
    },
    {
      "cell_type": "code",
      "source": [
        "# calculate the score differential for today\n",
        "\n",
        "sd = CalcSd(sr, gr, cr, par, pcc)\n",
        "\n",
        "# add to the list of score differentials\n",
        "\n",
        "sd20.append(sd)\n",
        "\n",
        "# remove the oldest value from the list of score differentials\n",
        "\n",
        "del sd20[0]\n",
        "\n",
        "# apply the exceptional round adjustment\n",
        "\n",
        "sd20 = ExceptionalRoundAdj(sd,sd20)\n",
        "\n",
        "# calculate the best 8 average SD\n",
        "\n",
        "sd20.sort()\n",
        "avg_sd = round(sum(sd20[0:8]) / len(sd20[0:8]),1)\n",
        "\n",
        "# update the handicap index \n",
        "\n",
        "UpdateHI(curr_hi,avg_sd,yr_low)\n"
      ],
      "metadata": {
        "colab": {
          "base_uri": "https://localhost:8080/"
        },
        "id": "4qavCZUaTGzT",
        "outputId": "c8b304b7-9dfa-4288-a227-18f0eed08ae4"
      },
      "execution_count": 30,
      "outputs": [
        {
          "output_type": "execute_result",
          "data": {
            "text/plain": [
              "4.8"
            ]
          },
          "metadata": {},
          "execution_count": 30
        }
      ]
    },
    {
      "cell_type": "markdown",
      "source": [
        "## How to calculate a handicap for any course\n",
        "\n",
        "\n",
        "course handicap = (Handicap index * (SR/113)) + (CR - par),\n",
        "\n",
        "SR is the slope rating (value given to a course to account for hills and other elevation changes that may affect distance and accuracy of your shots)\n",
        "\n",
        "This value is divided by 113 (average SR of golf courses)\n",
        "\n",
        "CR is course rating (numerical value designed to represent the difficulty of a course for a scratch golfer)"
      ],
      "metadata": {
        "id": "9vPe0izW0AYz"
      }
    }
  ]
}